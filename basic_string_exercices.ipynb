{
 "cells": [
  {
   "cell_type": "markdown",
   "metadata": {},
   "source": [
    "## Basic string exercises"
   ]
  },
  {
   "cell_type": "markdown",
   "metadata": {},
   "source": [
    "Fill in the code for the functions below. main() is already set up to call the functions with a few different inputs,\n",
    "printing 'OK' when each function is correct. The starter code for each function includes a 'return'\n",
    "which is just a placeholder for your code."
   ]
  },
  {
   "cell_type": "markdown",
   "metadata": {},
   "source": [
    "## A. donuts"
   ]
  },
  {
   "cell_type": "markdown",
   "metadata": {},
   "source": [
    "Given an int count of a number of donuts, return a string of the form 'Number of donuts: <count>', where <count> is the number passed in. However, if the count is 10 or more, then use the word 'many' instead of the actual count. \n",
    "\n",
    "So donuts(5) returns 'Number of donuts: 5' and donuts(23) returns 'Number of donuts: many'"
   ]
  },
  {
   "cell_type": "code",
   "execution_count": 62,
   "metadata": {
    "collapsed": false
   },
   "outputs": [
    {
     "name": "stdout",
     "output_type": "stream",
     "text": [
      "number of donuts:9\n",
      "  X  got: 'number of donuts:4' expected: 'Number of donuts: 4'\n"
     ]
    }
   ],
   "source": [
    "def donuts(count):\n",
    "    if count>=10:\n",
    "        return \"number of donuts: many\"\n",
    "    else:\n",
    "        return \"number of donuts:\" + str(count)\n",
    "print donuts(9)"
   ]
  },
  {
   "cell_type": "markdown",
   "metadata": {},
   "source": [
    "## B. both_ends"
   ]
  },
  {
   "cell_type": "markdown",
   "metadata": {},
   "source": [
    "Given a string s, return a string made of the first 2 and the last 2 chars of the original string, so 'spring' yields 'spng'. However, if the string length is less than 2, return instead the empty string."
   ]
  },
  {
   "cell_type": "code",
   "execution_count": 64,
   "metadata": {
    "collapsed": false
   },
   "outputs": [
    {
     "name": "stdout",
     "output_type": "stream",
     "text": [
      "  X  got: 'spn' expected: 'spng'\n"
     ]
    }
   ],
   "source": [
    "def both_ends(s):\n",
    "    # +++your code here+++\n",
    "    if len(s)<2:\n",
    "        return \"\"\n",
    "    else:\n",
    "        return s[:2]+s[-2]"
   ]
  },
  {
   "cell_type": "markdown",
   "metadata": {},
   "source": [
    "## C. fix_start"
   ]
  },
  {
   "cell_type": "markdown",
   "metadata": {},
   "source": [
    "Given a string s, return a string where all occurences of its first char have been changed to '*', except do not change the first char itself. \n",
    "\n",
    "e.g. 'babble' yields 'ba\\**le'\n",
    "\n",
    "Assume that the string is length 1 or more. Hint: s.replace(stra, strb) returns a version of string s where all instances of stra have been replaced by strb."
   ]
  },
  {
   "cell_type": "code",
   "execution_count": 65,
   "metadata": {
    "collapsed": false
   },
   "outputs": [
    {
     "name": "stdout",
     "output_type": "stream",
     "text": [
      " OK  got: 'ba**le' expected: 'ba**le'\n"
     ]
    }
   ],
   "source": [
    "def fix_start(s):\n",
    "    # +++your code here+++\n",
    "    return s[0] + s[1:].replace(s[0],\"*\")"
   ]
  },
  {
   "cell_type": "markdown",
   "metadata": {},
   "source": [
    "## D. MixUp"
   ]
  },
  {
   "cell_type": "markdown",
   "metadata": {},
   "source": [
    "Given strings a and b, return a single string with a and b separated by a space ```'<a> <b>'```, except swap the first 2 chars of each string.\n",
    "\n",
    "e.g.\n",
    "    \n",
    "    'mix', pod' -> 'pox mid'\n",
    "    \n",
    "    'dog', 'dinner' -> 'dig donner'\n",
    "\n",
    "Assume a and b are length 2 or more."
   ]
  },
  {
   "cell_type": "code",
   "execution_count": 67,
   "metadata": {
    "collapsed": false
   },
   "outputs": [
    {
     "name": "stdout",
     "output_type": "stream",
     "text": [
      "  X  got: 'mixpod' expected: 'pox mid'\n"
     ]
    }
   ],
   "source": [
    "def mix_up(a, b):\n",
    "    # +++your code here+++\n",
    "    return a + b.replace(a[1:2], b[1:2])\n",
    "test(mix_up('mix', 'pod'), 'pox mid')"
   ]
  },
  {
   "cell_type": "markdown",
   "metadata": {},
   "source": [
    "Provided simple test() function used in main() to print\n",
    "what each function returns vs. what it's supposed to return."
   ]
  },
  {
   "cell_type": "code",
   "execution_count": 52,
   "metadata": {
    "collapsed": true
   },
   "outputs": [],
   "source": [
    "def test(got, expected):\n",
    "    if got == expected:\n",
    "        prefix = ' OK '\n",
    "    else:\n",
    "        prefix = '  X '\n",
    "    print '%s got: %s expected: %s' % (prefix, repr(got), repr(expected))"
   ]
  },
  {
   "cell_type": "markdown",
   "metadata": {},
   "source": [
    "Provided main() calls the above functions with interesting inputs,\n",
    "using test() to check if each result is correct or not."
   ]
  },
  {
   "cell_type": "code",
   "execution_count": 60,
   "metadata": {
    "collapsed": true
   },
   "outputs": [],
   "source": [
    "def main():\n",
    "    print 'donuts'\n",
    "    # Each line calls donuts, compares its result to the expected for that call.\n",
    "    test(donuts(4), 'Number of donuts: 4')\n",
    "    test(donuts(9), 'Number of donuts: 9')\n",
    "    test(donuts(10), 'Number of donuts: many')\n",
    "    test(donuts(99), 'Number of donuts: many')\n",
    "\n",
    "    print\n",
    "    print 'both_ends'\n",
    "    test(both_ends('spring'), 'spng')\n",
    "    test(both_ends('Hello'), 'Helo')\n",
    "    test(both_ends('a'), '')\n",
    "    test(both_ends('xyz'), 'xyyz')\n",
    "\n",
    "  \n",
    "    print\n",
    "    print 'fix_start'\n",
    "    test(fix_start('babble'), 'ba**le')\n",
    "    test(fix_start('aardvark'), 'a*rdv*rk')\n",
    "    test(fix_start('google'), 'goo*le')\n",
    "    test(fix_start('donut'), 'donut')\n",
    "\n",
    "    print\n",
    "    print 'mix_up'\n",
    "    test(mix_up('mix', 'pod'), 'pox mid')\n",
    "    test(mix_up('dog', 'dinner'), 'dig donner')\n",
    "    test(mix_up('gnash', 'sport'), 'spash gnort')\n",
    "    test(mix_up('pezzy', 'firm'), 'fizzy perm')"
   ]
  },
  {
   "cell_type": "markdown",
   "metadata": {},
   "source": [
    "We call the main function."
   ]
  },
  {
   "cell_type": "code",
   "execution_count": 39,
   "metadata": {
    "collapsed": false
   },
   "outputs": [
    {
     "name": "stdout",
     "output_type": "stream",
     "text": [
      "verbing\n",
      " OK  got: 'hailing' expected: 'hailing'\n",
      " OK  got: 'swimingly' expected: 'swimingly'\n",
      " OK  got: 'do' expected: 'do'\n",
      "\n",
      "not_bad\n",
      " OK  got: 'This movie is good' expected: 'This movie is good'\n",
      " OK  got: 'This dinner is good!' expected: 'This dinner is good!'\n",
      " OK  got: 'This tea is not hot' expected: 'This tea is not hot'\n",
      " OK  got: \"It's bad yet not\" expected: \"It's bad yet not\"\n",
      "\n",
      "front_back\n",
      " OK  got: 'abxcdy' expected: 'abxcdy'\n",
      " OK  got: 'abcxydez' expected: 'abcxydez'\n",
      " OK  got: 'KitDontenut' expected: 'KitDontenut'\n"
     ]
    }
   ],
   "source": [
    "main()"
   ]
  },
  {
   "cell_type": "markdown",
   "metadata": {},
   "source": [
    "## D. verbing"
   ]
  },
  {
   "cell_type": "markdown",
   "metadata": {},
   "source": [
    "Given a string, if its length is at least 3, add 'ing' to its end. Unless it already ends in 'ing', in which case\n",
    "add 'ly' instead. If the string length is less than 3, leave it unchanged. Return the resulting string."
   ]
  },
  {
   "cell_type": "code",
   "execution_count": 14,
   "metadata": {
    "collapsed": false
   },
   "outputs": [
    {
     "name": "stdout",
     "output_type": "stream",
     "text": [
      "ingly\n"
     ]
    }
   ],
   "source": [
    "def verbing(s):\n",
    "    # +++your code here+++\n",
    "    if len(s) < 3:\n",
    "        return s\n",
    "    elif s.endswith('ing'):\n",
    "        return s + 'ly'\n",
    "    else:\n",
    "        return s + 'ing'\n",
    "print verbing('testing')"
   ]
  },
  {
   "cell_type": "markdown",
   "metadata": {},
   "source": [
    "## E. not_bad"
   ]
  },
  {
   "cell_type": "markdown",
   "metadata": {},
   "source": [
    "Given a string, find the first appearance of the substring 'not' and 'bad'. If the 'bad' follows the 'not', replace the whole 'not'...'bad' substring with 'good'.\n",
    "\n",
    "Return the resulting string.\n",
    "\n",
    "So 'This dinner is not that bad!' yields: This dinner is good!"
   ]
  },
  {
   "cell_type": "code",
   "execution_count": 24,
   "metadata": {
    "collapsed": false
   },
   "outputs": [
    {
     "name": "stdout",
     "output_type": "stream",
     "text": [
      "this good\n"
     ]
    }
   ],
   "source": [
    "def not_bad(s):\n",
    "    # +++your code here+++\n",
    "    q = s.split( \"bad\" )\n",
    "    w = q[0].split( \"not\" )\n",
    "    if len(q) > 1 < len(w):\n",
    "        return w[0] + \"good\" + \"bad\".join(q[1:])\n",
    "    return s\n",
    "print not_bad('this not ghshghj hsghg bad')"
   ]
  },
  {
   "cell_type": "markdown",
   "metadata": {},
   "source": [
    "## F. front_back"
   ]
  },
  {
   "cell_type": "markdown",
   "metadata": {},
   "source": [
    "Consider dividing a string into two halves. If the length is even, the front and back halves are the same length. If the length is odd, we'll say that the extra char goes in the front half.\n",
    "\n",
    "e.g. 'abcde', the front half is 'abc', the back half 'de'.\n",
    "\n",
    "Given 2 strings, a and b, return a string of the form a-front + b-front + a-back + b-back"
   ]
  },
  {
   "cell_type": "code",
   "execution_count": 37,
   "metadata": {
    "collapsed": false
   },
   "outputs": [
    {
     "name": "stdout",
     "output_type": "stream",
     "text": [
      "osthaerse\n"
     ]
    }
   ],
   "source": [
    "def front_back(a, b):\n",
    "    # +++your code here+++\n",
    "    hlena, hlenb = (len(a) + 1)/2, (len(b) + 1)/2\n",
    "    return a[:hlena] + b[:hlenb] + a[hlena:] + b[hlenb:]\n",
    "print front_back('oster', 'hase')"
   ]
  },
  {
   "cell_type": "markdown",
   "metadata": {},
   "source": [
    "Provided simple test() function used in main() to print\n",
    "what each function returns vs. what it's supposed to return."
   ]
  },
  {
   "cell_type": "code",
   "execution_count": 29,
   "metadata": {
    "collapsed": true
   },
   "outputs": [],
   "source": [
    "def test(got, expected):\n",
    "    if got == expected:\n",
    "        prefix = ' OK '\n",
    "    else:\n",
    "        prefix = '  X '\n",
    "    print '%s got: %s expected: %s' % (prefix, repr(got), repr(expected))"
   ]
  },
  {
   "cell_type": "code",
   "execution_count": 35,
   "metadata": {
    "collapsed": true
   },
   "outputs": [],
   "source": [
    "def main():\n",
    "    print 'verbing'\n",
    "    test(verbing('hail'), 'hailing')\n",
    "    test(verbing('swiming'), 'swimingly')\n",
    "    test(verbing('do'), 'do')\n",
    "    \n",
    "    print\n",
    "    print 'not_bad'\n",
    "    test(not_bad('This movie is not so bad'), 'This movie is good')\n",
    "    test(not_bad('This dinner is not that bad!'), 'This dinner is good!')\n",
    "    test(not_bad('This tea is not hot'), 'This tea is not hot')\n",
    "    test(not_bad(\"It's bad yet not\"), \"It's bad yet not\")\n",
    "\n",
    "    print\n",
    "    print 'front_back'\n",
    "    test(front_back('abcd', 'xy'), 'abxcdy')\n",
    "    test(front_back('abcde', 'xyz'), 'abcxydez')\n",
    "    test(front_back('Kitten', 'Donut'), 'KitDontenut')"
   ]
  },
  {
   "cell_type": "markdown",
   "metadata": {},
   "source": [
    "We call the main function."
   ]
  },
  {
   "cell_type": "code",
   "execution_count": 38,
   "metadata": {
    "collapsed": false
   },
   "outputs": [
    {
     "name": "stdout",
     "output_type": "stream",
     "text": [
      "verbing\n",
      " OK  got: 'hailing' expected: 'hailing'\n",
      " OK  got: 'swimingly' expected: 'swimingly'\n",
      " OK  got: 'do' expected: 'do'\n",
      "\n",
      "not_bad\n",
      " OK  got: 'This movie is good' expected: 'This movie is good'\n",
      " OK  got: 'This dinner is good!' expected: 'This dinner is good!'\n",
      " OK  got: 'This tea is not hot' expected: 'This tea is not hot'\n",
      " OK  got: \"It's bad yet not\" expected: \"It's bad yet not\"\n",
      "\n",
      "front_back\n",
      " OK  got: 'abxcdy' expected: 'abxcdy'\n",
      " OK  got: 'abcxydez' expected: 'abcxydez'\n",
      " OK  got: 'KitDontenut' expected: 'KitDontenut'\n"
     ]
    }
   ],
   "source": [
    "main()"
   ]
  },
  {
   "cell_type": "code",
   "execution_count": null,
   "metadata": {
    "collapsed": true
   },
   "outputs": [],
   "source": []
  }
 ],
 "metadata": {
  "kernelspec": {
   "display_name": "Python 2",
   "language": "python",
   "name": "python2"
  },
  "language_info": {
   "codemirror_mode": {
    "name": "ipython",
    "version": 2
   },
   "file_extension": ".py",
   "mimetype": "text/x-python",
   "name": "python",
   "nbconvert_exporter": "python",
   "pygments_lexer": "ipython2",
   "version": "2.7.10"
  }
 },
 "nbformat": 4,
 "nbformat_minor": 0
}
